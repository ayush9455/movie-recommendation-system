{
 "cells": [
  {
   "cell_type": "code",
   "execution_count": 1,
   "id": "196fa87c",
   "metadata": {},
   "outputs": [],
   "source": [
    "import numpy as np\n",
    "import pandas as pd\n",
    "import matplotlib.pyplot as plt \n",
    "import sys\n",
    "import pickle"
   ]
  },
  {
   "cell_type": "code",
   "execution_count": 2,
   "id": "8febde2a",
   "metadata": {},
   "outputs": [],
   "source": [
    "#movielens-20m-dataset\n",
    "path='Dataset/'\n",
    "movies=pd.read_csv(path+'movie.csv')\n",
    "tags=pd.read_csv(path+'tag.csv')\n",
    "ratings=pd.read_csv(path+'rating.csv')"
   ]
  },
  {
   "cell_type": "code",
   "execution_count": 3,
   "id": "61b45bda",
   "metadata": {},
   "outputs": [
    {
     "name": "stderr",
     "output_type": "stream",
     "text": [
      "C:\\Users\\AYUSH-PC\\AppData\\Local\\Temp\\ipykernel_12608\\2665461764.py:1: FutureWarning: The default value of regex will change from True to False in a future version. In addition, single character regular expressions will *not* be treated as literal strings when regex=True.\n",
      "  movies['genres']=movies['genres'].str.replace('|',' ')\n"
     ]
    }
   ],
   "source": [
    "movies['genres']=movies['genres'].str.replace('|',' ')"
   ]
  },
  {
   "cell_type": "code",
   "execution_count": 4,
   "id": "def8925b",
   "metadata": {},
   "outputs": [],
   "source": [
    "#filter ratings to user_ratings that have rated more than 55 movies otherwise it will be impossible to pivot the df later \n",
    "ratings_f=ratings.groupby('userId').filter(lambda x:len(x) >=55)\n",
    "#list the movie title that filter out \n",
    "movie_list_rating=ratings_f.movieId.unique().tolist()"
   ]
  },
  {
   "cell_type": "code",
   "execution_count": 5,
   "id": "31cfa8fa",
   "metadata": {},
   "outputs": [],
   "source": [
    "#filter the movie df\n",
    "movies=movies[movies.movieId.isin(movie_list_rating)]"
   ]
  },
  {
   "cell_type": "code",
   "execution_count": 6,
   "id": "ad972a38",
   "metadata": {},
   "outputs": [],
   "source": [
    "#map movie to id \n",
    "Mapping_file=dict(zip(movies.title.tolist(),movies.movieId.tolist()))"
   ]
  },
  {
   "cell_type": "code",
   "execution_count": 7,
   "id": "038504b3",
   "metadata": {},
   "outputs": [
    {
     "name": "stderr",
     "output_type": "stream",
     "text": [
      "C:\\Users\\AYUSH-PC\\AppData\\Local\\Temp\\ipykernel_12608\\1782613304.py:1: FutureWarning: In a future version of pandas all arguments of DataFrame.drop except for the argument 'labels' will be keyword-only.\n",
      "  tags.drop(['timestamp'],1,inplace=True)\n"
     ]
    }
   ],
   "source": [
    "tags.drop(['timestamp'],1,inplace=True)"
   ]
  },
  {
   "cell_type": "code",
   "execution_count": null,
   "id": "b5e311c4",
   "metadata": {},
   "outputs": [],
   "source": [
    "ratings_f.drop(['timestamp'],1,inplace=True)"
   ]
  },
  {
   "cell_type": "markdown",
   "id": "4874efa2",
   "metadata": {},
   "source": [
    "Merge movies & tags df and create a metadata tag for each movies :"
   ]
  },
  {
   "cell_type": "code",
   "execution_count": 9,
   "id": "e7ad5da5",
   "metadata": {},
   "outputs": [],
   "source": [
    "#create a mixe df of title & genres and tags\n",
    "mixed=pd.merge(movies,tags,on='movieId',how='left')"
   ]
  },
  {
   "cell_type": "code",
   "execution_count": 10,
   "id": "f9ed789b",
   "metadata": {},
   "outputs": [],
   "source": [
    "#creating metadata from tags & genres\n",
    "mixed.fillna(\"\",inplace=True)\n",
    "mixed=pd.DataFrame(mixed.groupby('movieId')['tag'].apply(lambda x: \"%s\" % ' '.join(x)))\n",
    "\n",
    "Final=pd.merge(movies,mixed,on='movieId',how='left')\n",
    "Final['metadata'] =Final[['tag','genres']].apply(lambda x: ' '.join(x),axis =1)"
   ]
  },
  {
   "cell_type": "markdown",
   "id": "40c628a5",
   "metadata": {},
   "source": [
    "Creating A Content Latent Matrix From Movie Metadata :\n",
    "\n",
    "tf-idf vectors and truncated SVD :"
   ]
  },
  {
   "cell_type": "code",
   "execution_count": 11,
   "id": "ec864c4b",
   "metadata": {},
   "outputs": [],
   "source": [
    "from sklearn.feature_extraction.text import TfidfVectorizer\n",
    "tfidf=TfidfVectorizer(stop_words='english')\n",
    "tfidf_matrix=tfidf.fit_transform(Final['metadata'])\n",
    "tfidf_df=pd.DataFrame(tfidf_matrix.toarray(),index=Final.index.tolist())"
   ]
  },
  {
   "cell_type": "code",
   "execution_count": 12,
   "id": "f55aea53",
   "metadata": {},
   "outputs": [],
   "source": [
    "#compressed_with_SVD\n",
    "from sklearn.decomposition import TruncatedSVD\n",
    "svd=TruncatedSVD(n_components=200)\n",
    "latent_matrix=svd.fit_transform(tfidf_df)\n",
    "latent_matrix_df=pd.DataFrame(latent_matrix,index=Final.title.tolist())"
   ]
  },
  {
   "cell_type": "code",
   "execution_count": 13,
   "id": "825e9acf",
   "metadata": {},
   "outputs": [
    {
     "data": {
      "image/png": "[encoded data removed]",
      "text/plain": [
       "<Figure size 432x288 with 1 Axes>"
      ]
     },
     "metadata": {
      "needs_background": "light"
     },
     "output_type": "display_data"
    }
   ],
   "source": [
    "#plot var explained to see what latent dimensions to use \n",
    "explained=svd.explained_variance_ratio_.cumsum()\n",
    "plt.plot(explained,'.-',ms=16,color='red')\n",
    "plt.xlabel('Singular value components',fontsize=12)\n",
    "plt.ylabel('Cumulative percent of variance',fontsize=12)\n",
    "plt.show()\n",
    "#As From Plot first 200 components explain over 50% of the variance  "
   ]
  },
  {
   "cell_type": "markdown",
   "id": "fdb1671a",
   "metadata": {},
   "source": [
    " Creating Collabrative Latent Matrix From User Ratings :"
   ]
  },
  {
   "cell_type": "code",
   "execution_count": 14,
   "id": "f9d1941e",
   "metadata": {},
   "outputs": [],
   "source": [
    "ratings_f1=pd.merge(movies[['movieId']],ratings_f,on='movieId',how='right')"
   ]
  },
  {
   "cell_type": "code",
   "execution_count": 15,
   "id": "89614fde",
   "metadata": {},
   "outputs": [],
   "source": [
    "ratings_f2=ratings_f1.pivot(index='movieId',columns='userId',values='rating').fillna(0)"
   ]
  },
  {
   "cell_type": "code",
   "execution_count": 16,
   "id": "24deba79",
   "metadata": {},
   "outputs": [],
   "source": [
    "from sklearn.decomposition import TruncatedSVD\n",
    "svd=TruncatedSVD(n_components=200)\n",
    "latent_matrix_2=svd.fit_transform(ratings_f2)\n",
    "latent_matrix_2_df=pd.DataFrame(latent_matrix_2,index=Final.title.tolist())"
   ]
  },
  {
   "cell_type": "code",
   "execution_count": 17,
   "id": "b5f7f307",
   "metadata": {},
   "outputs": [
    {
     "data": {
      "image/png": "[encoded data removed]",
      "text/plain": [
       "<Figure size 432x288 with 1 Axes>"
      ]
     },
     "metadata": {
      "needs_background": "light"
     },
     "output_type": "display_data"
    }
   ],
   "source": [
    "explained=svd.explained_variance_ratio_.cumsum()\n",
    "plt.plot(explained,'.-',ms=16,color='red')\n",
    "plt.xlabel('Singular value components',fontsize=12)\n",
    "plt.ylabel('Cumulative percent of variance',fontsize=12)\n",
    "plt.show()"
   ]
  },
  {
   "cell_type": "code",
   "execution_count": 18,
   "id": "f1f28353",
   "metadata": {},
   "outputs": [
    {
     "data": {
      "text/html": [
       "<div>\n",
       "<style scoped>\n",
       "    .dataframe tbody tr th:only-of-type {\n",
       "        vertical-align: middle;\n",
       "    }\n",
       "\n",
       "    .dataframe tbody tr th {\n",
       "        vertical-align: top;\n",
       "    }\n",
       "\n",
       "    .dataframe thead th {\n",
       "        text-align: right;\n",
       "    }\n",
       "</style>\n",
       "<table border=\"1\" class=\"dataframe\">\n",
       "  <thead>\n",
       "    <tr style=\"text-align: right;\">\n",
       "      <th></th>\n",
       "      <th>content</th>\n",
       "      <th>collabrative</th>\n",
       "      <th>hybrid</th>\n",
       "    </tr>\n",
       "  </thead>\n",
       "  <tbody>\n",
       "    <tr>\n",
       "      <th>King Kong vs. Godzilla (Kingukongu tai Gojira) (1962)</th>\n",
       "      <td>0.786091</td>\n",
       "      <td>0.943737</td>\n",
       "      <td>0.864914</td>\n",
       "    </tr>\n",
       "    <tr>\n",
       "      <th>Them! (1954)</th>\n",
       "      <td>0.594280</td>\n",
       "      <td>0.914934</td>\n",
       "      <td>0.754607</td>\n",
       "    </tr>\n",
       "    <tr>\n",
       "      <th>It Came from Beneath the Sea (1955)</th>\n",
       "      <td>0.659084</td>\n",
       "      <td>0.836219</td>\n",
       "      <td>0.747651</td>\n",
       "    </tr>\n",
       "    <tr>\n",
       "      <th>King Kong (1933)</th>\n",
       "      <td>0.641022</td>\n",
       "      <td>0.827287</td>\n",
       "      <td>0.734154</td>\n",
       "    </tr>\n",
       "    <tr>\n",
       "      <th>Blob, The (1958)</th>\n",
       "      <td>0.583370</td>\n",
       "      <td>0.879643</td>\n",
       "      <td>0.731507</td>\n",
       "    </tr>\n",
       "    <tr>\n",
       "      <th>King Kong (1976)</th>\n",
       "      <td>0.627656</td>\n",
       "      <td>0.795957</td>\n",
       "      <td>0.711807</td>\n",
       "    </tr>\n",
       "    <tr>\n",
       "      <th>Godzilla, King of the Monsters! (Kaijû-ô Gojira) (1956)</th>\n",
       "      <td>0.725078</td>\n",
       "      <td>0.692670</td>\n",
       "      <td>0.708874</td>\n",
       "    </tr>\n",
       "    <tr>\n",
       "      <th>King Kong Lives (1986)</th>\n",
       "      <td>0.714219</td>\n",
       "      <td>0.641896</td>\n",
       "      <td>0.678057</td>\n",
       "    </tr>\n",
       "    <tr>\n",
       "      <th>Son of Godzilla (Kaijûtô no kessen: Gojira no musuko) (1967)</th>\n",
       "      <td>0.802480</td>\n",
       "      <td>0.551211</td>\n",
       "      <td>0.676846</td>\n",
       "    </tr>\n",
       "    <tr>\n",
       "      <th>Empire of the Ants (1977)</th>\n",
       "      <td>0.745725</td>\n",
       "      <td>0.591912</td>\n",
       "      <td>0.668818</td>\n",
       "    </tr>\n",
       "  </tbody>\n",
       "</table>\n",
       "</div>"
      ],
      "text/plain": [
       "                                                     content  collabrative  \\\n",
       "King Kong vs. Godzilla (Kingukongu tai Gojira) ...  0.786091      0.943737   \n",
       "Them! (1954)                                        0.594280      0.914934   \n",
       "It Came from Beneath the Sea (1955)                 0.659084      0.836219   \n",
       "King Kong (1933)                                    0.641022      0.827287   \n",
       "Blob, The (1958)                                    0.583370      0.879643   \n",
       "King Kong (1976)                                    0.627656      0.795957   \n",
       "Godzilla, King of the Monsters! (Kaijû-ô Gojira...  0.725078      0.692670   \n",
       "King Kong Lives (1986)                              0.714219      0.641896   \n",
       "Son of Godzilla (Kaijûtô no kessen: Gojira no m...  0.802480      0.551211   \n",
       "Empire of the Ants (1977)                           0.745725      0.591912   \n",
       "\n",
       "                                                      hybrid  \n",
       "King Kong vs. Godzilla (Kingukongu tai Gojira) ...  0.864914  \n",
       "Them! (1954)                                        0.754607  \n",
       "It Came from Beneath the Sea (1955)                 0.747651  \n",
       "King Kong (1933)                                    0.734154  \n",
       "Blob, The (1958)                                    0.731507  \n",
       "King Kong (1976)                                    0.711807  \n",
       "Godzilla, King of the Monsters! (Kaijû-ô Gojira...  0.708874  \n",
       "King Kong Lives (1986)                              0.678057  \n",
       "Son of Godzilla (Kaijûtô no kessen: Gojira no m...  0.676846  \n",
       "Empire of the Ants (1977)                           0.668818  "
      ]
     },
     "execution_count": 18,
     "metadata": {},
     "output_type": "execute_result"
    }
   ],
   "source": [
    "from sklearn.metrics.pairwise import cosine_similarity\n",
    "#take the latent vectors for a selected movie from both content & collabrative matrixes \n",
    "a_1=np.array(latent_matrix_df.loc['Godzilla (Gojira) (1954)']).reshape(1,-1)\n",
    "a_2=np.array(latent_matrix_2_df.loc['Godzilla (Gojira) (1954)']).reshape(1,-1)\n",
    "#calculate similarity of this movie with others \n",
    "score_1=cosine_similarity(latent_matrix_df,a_1).reshape(-1)\n",
    "score_2=cosine_similarity(latent_matrix_2_df,a_2).reshape(-1)\n",
    "#an average measure of both content & collabrative\n",
    "hybrid=((score_1+score_2)/2.0)\n",
    "#forming df of similar movies\n",
    "dictDf={'content':score_1,'collabrative':score_2,'hybrid':hybrid}\n",
    "similar=pd.DataFrame(dictDf,index=latent_matrix_df.index)\n",
    "#sorting it on basis of hybrid value\n",
    "similar.sort_values('hybrid',ascending=False,inplace=True)\n",
    "similar[1:].head(10)"
   ]
  },
  {
   "cell_type": "code",
   "execution_count": 19,
   "id": "528b5298",
   "metadata": {},
   "outputs": [],
   "source": [
    "#storing the latent matrices\n",
    "pickle.dump(latent_matrix_df,open('content.pkl','wb'))\n",
    "pickle.dump(latent_matrix_2_df,open('collabrative.pkl','wb'))"
   ]
  }
 ],
 "metadata": {
  "kernelspec": {
   "display_name": "Python 3 (ipykernel)",
   "language": "python",
   "name": "python3"
  },
  "language_info": {
   "codemirror_mode": {
    "name": "ipython",
    "version": 3
   },
   "file_extension": ".py",
   "mimetype": "text/x-python",
   "name": "python",
   "nbconvert_exporter": "python",
   "pygments_lexer": "ipython3",
   "version": "3.10.4"
  }
 },
 "nbformat": 4,
 "nbformat_minor": 5
}
